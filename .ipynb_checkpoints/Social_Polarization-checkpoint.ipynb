{
 "cells": [
  {
   "cell_type": "code",
   "execution_count": 1,
   "metadata": {
    "colab": {},
    "colab_type": "code",
    "id": "0QL4dM5RAezH"
   },
   "outputs": [],
   "source": [
    "import random\n",
    "import math\n",
    "\n",
    "import matplotlib.pyplot as plt\n",
    "import networkx as nx\n",
    "import numpy\n",
    "from scipy.stats import linregress, ttest_1samp\n",
    "from scipy.cluster.vq import kmeans2\n",
    "\n",
    "random.seed(1)"
   ]
  },
  {
   "cell_type": "code",
   "execution_count": 2,
   "metadata": {
    "colab": {},
    "colab_type": "code",
    "id": "p_T71vas_3J6"
   },
   "outputs": [],
   "source": [
    "# define network settings\n",
    "population = 5\n",
    "initial_connections = 2#min([int(0.1 * population), 100])"
   ]
  },
  {
   "cell_type": "code",
   "execution_count": 3,
   "metadata": {
    "colab": {},
    "colab_type": "code",
    "id": "w_VK4wd_AXA0"
   },
   "outputs": [],
   "source": [
    "# initialize belief states\n",
    "belief_states = [random.randint(10, 50) * random.choice([-1, 1]) / 100 for i in range(population)]\n",
    "next_belief_states = belief_states.copy()\n",
    "\n",
    "outboxes = [set([(belief_states[i], i)]) for i in range(population)]\n",
    "next_outboxes = outboxes.copy()"
   ]
  },
  {
   "cell_type": "code",
   "execution_count": 4,
   "metadata": {
    "colab": {},
    "colab_type": "code",
    "id": "CD5b2o4YC5Z2"
   },
   "outputs": [],
   "source": [
    "def connect(a, b):\n",
    "  outbound_connections[a].add(b)\n",
    "  inbound_connections[b].add(a)\n",
    "\n",
    "def disconnect(a, b):\n",
    "  outbound_connections[a].remove(b)\n",
    "  inbound_connections[b].remove(a)"
   ]
  },
  {
   "cell_type": "code",
   "execution_count": 5,
   "metadata": {
    "colab": {},
    "colab_type": "code",
    "id": "ryFNjGWIBmDt",
    "scrolled": false
   },
   "outputs": [],
   "source": [
    "# initialize network\n",
    "outbound_connections = [set() for indv in range(population)]\n",
    "inbound_connections = [set() for indv in range(population)]\n",
    "\n",
    "# start with Erdos-Renyi for first pass\n",
    "#p = population / 2000\n",
    "p = 0.1\n",
    "everyone = range(population)\n",
    "for indv in range(population):\n",
    "    for other in range(population):\n",
    "        if random.random() < p:\n",
    "            connect(indv, other)\n",
    "            \n",
    "# generate Barabasi-Albert network from random base\n",
    "def get_order(depth=1):\n",
    "    weight_of_neighbors = 0.5\n",
    "    def get_path_count(indv, current_depth=0):\n",
    "        num_paths_to_me = len(inbound_connections[indv])\n",
    "        if current_depth < depth:\n",
    "            for other in inbound_connections[indv]:\n",
    "                num_paths_to_me += weight_of_neighbors * get_path_count(other, current_depth + 1)\n",
    "        return num_paths_to_me\n",
    "    return sorted(everyone, key=get_path_count, reverse=True), [get_path_count(indv) for indv in everyone]\n",
    "\n",
    "for i in range(initial_connections - 1): # first pass has already happened\n",
    "    order = get_order()[0]\n",
    "    for indv in everyone:\n",
    "        for i, other in enumerate(order):\n",
    "            next_other = None\n",
    "            if i > 0:\n",
    "                next_other = order[i - 1]\n",
    "            if other not in outbound_connections[indv]:\n",
    "                connect(indv, other)\n",
    "                if next_other != None:\n",
    "                    if len(inbound_connections[other]) > len(inbound_connections[next_other]):\n",
    "                        order.remove(other)\n",
    "                        order.insert(i - 1, other)\n",
    "                break"
   ]
  },
  {
   "cell_type": "code",
   "execution_count": 6,
   "metadata": {},
   "outputs": [
    {
     "name": "stdout",
     "output_type": "stream",
     "text": [
      "R^2: 0.9333306255588574\n"
     ]
    },
    {
     "data": {
      "image/png": "[encoded data removed]",
      "text/plain": [
       "<Figure size 432x288 with 1 Axes>"
      ]
     },
     "metadata": {
      "needs_background": "light"
     },
     "output_type": "display_data"
    }
   ],
   "source": [
    "# plot power law distribution\n",
    "degrees = sorted([math.log10(len(inbound_connections[i]) + 1) for i in range(population)], reverse=True)\n",
    "ranks = [math.log10(r + 1) for r in range(population)]\n",
    "\n",
    "z = numpy.polyfit(ranks, degrees, 1)\n",
    "p = numpy.poly1d(z)\n",
    "plt.plot(ranks, p(ranks),\"r--\")\n",
    "\n",
    "r_value = linregress(ranks, degrees)[2]\n",
    "r2 = r_value ** 2\n",
    "\n",
    "print(\"R^2:\", r2)\n",
    "\n",
    "plt.plot(ranks, degrees, \"b.\")\n",
    "plt.xlabel(\"Rank\")\n",
    "plt.ylabel(\"log(degree)\")\n",
    "plt.title(\"Degree Distribution\")\n",
    "plt.show()"
   ]
  },
  {
   "cell_type": "code",
   "execution_count": 18,
   "metadata": {},
   "outputs": [
    {
     "data": {
      "image/png": "[encoded data removed]",
      "text/plain": [
       "<Figure size 432x288 with 1 Axes>"
      ]
     },
     "metadata": {},
     "output_type": "display_data"
    },
    {
     "name": "stdout",
     "output_type": "stream",
     "text": [
      "[(0, 1), (1, 1), (2, 3), (4, 1)]\n"
     ]
    },
    {
     "data": {
      "text/plain": [
       "{1: 0, 3: 4.5, 0: 0, 2: 1.0, 4: 0}"
      ]
     },
     "execution_count": 18,
     "metadata": {},
     "output_type": "execute_result"
    }
   ],
   "source": [
    "def visualize_graph():\n",
    "    G = nx.DiGraph()\n",
    "    G.add_nodes_from(range(population))\n",
    "\n",
    "    edges = []\n",
    "    for indv, ocs in enumerate(outbound_connections):\n",
    "        for other in ocs:\n",
    "            edge = (indv, other)\n",
    "            edges.append(edge)\n",
    "            G.add_edge(*edge)\n",
    "\n",
    "    pos = nx.spring_layout(G)\n",
    "    nx.draw(G, pos, with_labels = True, edge_color = 'b', arrowsize=20, arrowstyle='->')\n",
    "    plt.show()\n",
    "    \n",
    "    return edges\n",
    "\n",
    "edges = visualize_graph()\n",
    "print(edges)\n",
    "dict(zip(*get_order()))"
   ]
  },
  {
   "cell_type": "code",
   "execution_count": 8,
   "metadata": {
    "colab": {},
    "colab_type": "code",
    "id": "bADqyA6bNv8Z"
   },
   "outputs": [],
   "source": [
    "disconnect_threshold = 0.3\n",
    "follow_threshold = 0.1\n",
    "reshare_threshold = 0.2"
   ]
  },
  {
   "cell_type": "code",
   "execution_count": 9,
   "metadata": {
    "colab": {},
    "colab_type": "code",
    "id": "BaSoUwNALx8S"
   },
   "outputs": [],
   "source": [
    "def update(inbox_size):\n",
    "  global outboxes, next_outboxes, belief_states, next_belief_states\n",
    "\n",
    "  for indv in range(population):\n",
    "    inbox = []\n",
    "    conns = sorted(outbound_connections[indv], key=lambda other: abs(belief_states[other] - belief_states[indv]))\n",
    "    for other in conns:\n",
    "      inbox += outboxes[other]\n",
    "\n",
    "    state = belief_states[indv]\n",
    "    for post in inbox[:inbox_size]:\n",
    "      msg, author = post\n",
    "    \n",
    "      disagreement = abs(msg - state)\n",
    "      memory = abs(belief_states[indv]) / 0.5\n",
    "      #memory = 1 / (1 + math.e ** (-4 * abs(belief_states[indv])))\n",
    "        \n",
    "      state = memory * state + (1 - memory) * msg\n",
    "\n",
    "      if disagreement > disconnect_threshold:\n",
    "        if author in outbound_connections[indv]:\n",
    "          disconnect(indv, author)\n",
    "          #print(indv, \"unfollowed\", author)\n",
    "      if disagreement < follow_threshold:\n",
    "        connect(indv, author)\n",
    "        #print(indv, \"followed\", author)\n",
    "      if disagreement < reshare_threshold and len(next_outboxes[indv]) < 10:\n",
    "        next_outboxes[indv].add((msg, author))\n",
    "        #print(indv, \"reshared\")\n",
    "\n",
    "    assert abs(state) <= 0.5, \"belief state too extreme\"\n",
    "    \n",
    "    #state = math.copysign(min([0.5, abs(1.01 * state)]), state)\n",
    "    \n",
    "    next_belief_states[indv] = state\n",
    "    \n",
    "    confidence = abs(belief_states[indv]) / 0.5\n",
    "\n",
    "    if random.random() <= confidence:\n",
    "      next_outboxes[indv].add((next_belief_states[indv], indv))\n",
    "\n",
    "  belief_states = next_belief_states.copy()\n",
    "  outboxes = next_outboxes.copy()\n",
    "  next_outboxes = [set() for i in range(population)]"
   ]
  },
  {
   "cell_type": "code",
   "execution_count": 10,
   "metadata": {
    "colab": {
     "base_uri": "https://localhost:8080/",
     "height": 34
    },
    "colab_type": "code",
    "id": "-UigY0NqQn82",
    "outputId": "a720a660-3912-433f-f090-1b257cf8fdb2",
    "scrolled": false
   },
   "outputs": [
    {
     "name": "stdout",
     "output_type": "stream",
     "text": [
      "0%.........10%.........20%.........30%.........40%.........50%.........60%.........70%.........80%.........90%.........100%"
     ]
    }
   ],
   "source": [
    "sim_length = 100\n",
    "for i in range(sim_length + 1):\n",
    "  if i < 0:\n",
    "    update(30)\n",
    "  else:\n",
    "    update(population)\n",
    "  if i % (0.1 * sim_length) == 0:\n",
    "    print(f\"{int(100 * i / sim_length)}%\", end=\"\")\n",
    "  elif i % int(0.01 * sim_length) == 0:\n",
    "    print(\".\", end=\"\")\n"
   ]
  },
  {
   "cell_type": "code",
   "execution_count": 11,
   "metadata": {
    "colab": {},
    "colab_type": "code",
    "id": "txNvD4TpRRmo"
   },
   "outputs": [
    {
     "data": {
      "image/png": "[encoded data removed]",
      "text/plain": [
       "<Figure size 432x288 with 1 Axes>"
      ]
     },
     "metadata": {
      "needs_background": "light"
     },
     "output_type": "display_data"
    },
    {
     "name": "stdout",
     "output_type": "stream",
     "text": [
      "52.64000000000001% polarization\n"
     ]
    }
   ],
   "source": [
    "# https://jimgrange.files.wordpress.com/2015/12/ttable.png\n",
    "\n",
    "num_bins = 20\n",
    "n, bins, patches = plt.hist(belief_states, num_bins, facecolor='blue', alpha=0.5)\n",
    "plt.xlabel(\"belief states\")\n",
    "plt.ylabel(\"Frequency\")\n",
    "plt.title(\"Belief State Frequencies\")\n",
    "plt.show()\n",
    "\n",
    "# measure polarization\n",
    "left = [s for s in belief_states if s < 0]\n",
    "right = [s for s in belief_states if s > 0]\n",
    "leftists = len(left)\n",
    "rightists = len(right)\n",
    "left_mean = sum(left) / leftists\n",
    "right_mean = sum(right) / rightists\n",
    "\n",
    "print(f\"{abs(((leftists / (population / 2)) * left_mean - (rightists / (population / 2)) * right_mean) * 100)}% polarization\")"
   ]
  },
  {
   "cell_type": "markdown",
   "metadata": {},
   "source": [
    "Political polarization does occur."
   ]
  },
  {
   "cell_type": "code",
   "execution_count": 12,
   "metadata": {
    "colab": {},
    "colab_type": "code",
    "id": "PKqIbuZy-c4j"
   },
   "outputs": [
    {
     "data": {
      "text/plain": [
       "Ttest_1sampResult(statistic=0.0, pvalue=1.0)"
      ]
     },
     "execution_count": 12,
     "metadata": {},
     "output_type": "execute_result"
    }
   ],
   "source": [
    "set_a = range(5)\n",
    "set_b = range(5, 10)\n",
    "ttest_1samp(set_a, 2)"
   ]
  },
  {
   "cell_type": "code",
   "execution_count": 13,
   "metadata": {
    "colab": {},
    "colab_type": "code",
    "id": "wLErI9B2JdgK"
   },
   "outputs": [
    {
     "name": "stdout",
     "output_type": "stream",
     "text": [
      "R^2: 0.918753771215981\n"
     ]
    },
    {
     "data": {
      "image/png": "[encoded data removed]",
      "text/plain": [
       "<Figure size 432x288 with 1 Axes>"
      ]
     },
     "metadata": {
      "needs_background": "light"
     },
     "output_type": "display_data"
    }
   ],
   "source": [
    "# plot power law distribution\n",
    "degrees = sorted([math.log10(len(inbound_connections[i]) + 1) for i in range(population)], reverse=True)\n",
    "ranks = [math.log10(r + 1) for r in range(population)]\n",
    "\n",
    "z = numpy.polyfit(ranks, degrees, 1)\n",
    "p = numpy.poly1d(z)\n",
    "plt.plot(ranks, p(ranks),\"r--\")\n",
    "\n",
    "r_value = linregress(ranks, degrees)[2]\n",
    "r2 = r_value ** 2\n",
    "\n",
    "print(\"R^2:\", r2)\n",
    "\n",
    "plt.plot(ranks, degrees, \"b.\")\n",
    "plt.xlabel(\"Rank\")\n",
    "plt.ylabel(\"log(degree)\")\n",
    "plt.title(\"Degree Distribution\")\n",
    "plt.show()"
   ]
  },
  {
   "cell_type": "code",
   "execution_count": 14,
   "metadata": {
    "colab": {},
    "colab_type": "code",
    "id": "ip3X8hZYcwnW"
   },
   "outputs": [
    {
     "name": "stdout",
     "output_type": "stream",
     "text": [
      "0.0\n"
     ]
    },
    {
     "data": {
      "image/png": "[encoded data removed]",
      "text/plain": [
       "<Figure size 432x288 with 1 Axes>"
      ]
     },
     "metadata": {},
     "output_type": "display_data"
    }
   ],
   "source": [
    "G = nx.Graph()\n",
    "G.add_nodes_from(range(population))\n",
    "edges = set()\n",
    "cross_edges = set()\n",
    "for indv, conns in enumerate(outbound_connections):\n",
    "  for other in conns:\n",
    "    if (belief_states[indv] < 0 and belief_states[other] > 0) or (belief_states[indv] > 0 and belief_states[other] < 0):\n",
    "      cross_edges.add((indv, other))\n",
    "    edges.add((indv, other))\n",
    "print(len(cross_edges) / len(edges) * 100)\n",
    "\n",
    "\n",
    "color_map = []\n",
    "for node in G:\n",
    "  if belief_states[node] >= 0.3:\n",
    "    color_map.append('blue')\n",
    "  elif belief_states[node] <= -0.3:\n",
    "    color_map.append('red')\n",
    "  else:\n",
    "    color_map.append('gray')\n",
    "\n",
    "def width(edge):\n",
    "  if edge in cross_edges:\n",
    "    return 1\n",
    "  return 1\n",
    "\n",
    "G.add_edges_from(edges)\n",
    "plt.title(\"Network Connections and Belief States\")\n",
    "layout = nx.spring_layout(G)\n",
    "nx.draw(G, node_color=color_map, pos=layout, node_size=5, width=[width(edge) for edge in G.edges()])"
   ]
  },
  {
   "cell_type": "code",
   "execution_count": null,
   "metadata": {},
   "outputs": [],
   "source": []
  },
  {
   "cell_type": "markdown",
   "metadata": {
    "colab_type": "text",
    "id": "wk9LHLneHFQ2"
   },
   "source": [
    "Show relationship between time and the following:\n",
    "\n",
    "* polarity\n",
    "* \\# cross edges / # edges\n",
    "* degree distribution R^2 (maybe)\n",
    "\n",
    "Also tweak the following:\n",
    "\n",
    "* network size\n",
    "* thresholds\n",
    "* confidence calculation\n",
    "\n",
    "Even without showing fission/full polarization I want be able to argue that they will occur based on my results. However, geography may be something that is simply not present in the network."
   ]
  }
 ],
 "metadata": {
  "colab": {
   "collapsed_sections": [],
   "name": "Social Polarization.ipynb",
   "provenance": []
  },
  "kernelspec": {
   "display_name": "Python 3",
   "language": "python",
   "name": "python3"
  },
  "language_info": {
   "codemirror_mode": {
    "name": "ipython",
    "version": 3
   },
   "file_extension": ".py",
   "mimetype": "text/x-python",
   "name": "python",
   "nbconvert_exporter": "python",
   "pygments_lexer": "ipython3",
   "version": "3.7.3"
  }
 },
 "nbformat": 4,
 "nbformat_minor": 1
}
